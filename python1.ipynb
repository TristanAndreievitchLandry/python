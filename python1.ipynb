{
 "cells": [
  {
   "cell_type": "markdown",
   "metadata": {},
   "source": [
    "# Un python dans mon jardin\n",
    "Python est un langage qui permet de faire beaucoup de choses différentes. Il est très apprécié des scientifiques. En fait, Python comporte une panoplie de modules qui, une fois importés, permettent de faire des statistiques, des calculs géométriques complexes, des requêtes dans une base de données ou encore de la robotique quand on ajoute, par exemple, un RasberryPi. On peut d'abord faire des maths basiques:"
   ]
  },
  {
   "cell_type": "markdown",
   "metadata": {},
   "source": [
    "## Maths 101"
   ]
  },
  {
   "cell_type": "code",
   "execution_count": null,
   "metadata": {},
   "outputs": [],
   "source": [
    "2+2"
   ]
  },
  {
   "cell_type": "markdown",
   "metadata": {},
   "source": [
    "On peut faire du calcul modulaire, par exemple pour savoir quelle heure il sera dans 200 heures. S’il est dix heures présentement, on écrira: "
   ]
  },
  {
   "cell_type": "code",
   "execution_count": null,
   "metadata": {},
   "outputs": [],
   "source": [
    "(10 + 200) % 12"
   ]
  },
  {
   "cell_type": "markdown",
   "metadata": {},
   "source": [
    "On peut aussi travailler avec des chaînes de caractères. Une chaîne de caractères commence et finit toujours par des guillemets (simples ou doubles, mais soyez constants dans vos choix). Si on entre dans la console `'Jean' + 'Marc'` et on fait `Enter`, on obtient: `'JeanMarc'`. "
   ]
  },
  {
   "cell_type": "code",
   "execution_count": null,
   "metadata": {},
   "outputs": [],
   "source": [
    "'Jean' + 'Marc'"
   ]
  },
  {
   "cell_type": "markdown",
   "metadata": {},
   "source": [
    "Par contre, si on tente de lier une chaîne de caractères et un nombre, on obtient un message d’erreur:"
   ]
  },
  {
   "cell_type": "code",
   "execution_count": null,
   "metadata": {},
   "outputs": [],
   "source": [
    "'Jean' + 33"
   ]
  },
  {
   "cell_type": "markdown",
   "metadata": {},
   "source": [
    "Il est important de lire les messages d’erreur dans la console car ils nous permettent de voir où est le problème. `Int` (pour _integer_) ici veut dire un nombre entier (33) et `str` (pour _string_) signifie chaîne de caractères. Il faut donc transformer le nombre en chaîne de caractères en l’entourant de guillemets: `'Jean'+'33'`. "
   ]
  },
  {
   "cell_type": "code",
   "execution_count": null,
   "metadata": {},
   "outputs": [],
   "source": [
    "'Jean'+'33'"
   ]
  },
  {
   "cell_type": "markdown",
   "metadata": {},
   "source": [
    "On peut aussi multiplier des chaînes de caractères:"
   ]
  },
  {
   "cell_type": "code",
   "execution_count": null,
   "metadata": {},
   "outputs": [],
   "source": [
    "'Jean'*5"
   ]
  },
  {
   "cell_type": "markdown",
   "metadata": {},
   "source": [
    "Par contre, multiplier une chaîne par une chaîne donne un message d’erreur:"
   ]
  },
  {
   "cell_type": "code",
   "execution_count": null,
   "metadata": {},
   "outputs": [],
   "source": [
    "'Jean'*'Marc'"
   ]
  },
  {
   "cell_type": "markdown",
   "metadata": {},
   "source": [
    "## Les variables"
   ]
  },
  {
   "cell_type": "markdown",
   "metadata": {},
   "source": [
    "Python permet de définir des variables. Il faut s’imaginer qu’une variable est une boîte. On peut y mettre ce que l’on veut et le retrouver chaque fois qu’on invoque la variable."
   ]
  },
  {
   "cell_type": "code",
   "execution_count": null,
   "metadata": {},
   "outputs": [],
   "source": [
    "courge = 50\n",
    "courge"
   ]
  },
  {
   "cell_type": "code",
   "execution_count": null,
   "metadata": {},
   "outputs": [],
   "source": [
    "haricot = 10\n",
    "courge + haricot"
   ]
  },
  {
   "cell_type": "code",
   "execution_count": null,
   "metadata": {},
   "outputs": [],
   "source": [
    "courge = courge + 2\n",
    "courge"
   ]
  },
  {
   "cell_type": "markdown",
   "metadata": {},
   "source": [
    "On peut remplacer le contenu de la boîte (autrement dit la valeur à laquelle est associée la variable). Le contenu précédent sera par contre effacé."
   ]
  },
  {
   "cell_type": "code",
   "execution_count": null,
   "metadata": {},
   "outputs": [],
   "source": [
    "courge = 'Antoine'\n",
    "courge"
   ]
  },
  {
   "cell_type": "code",
   "execution_count": null,
   "metadata": {},
   "outputs": [],
   "source": [
    "courge = 'Joshua'\n",
    "courge"
   ]
  },
  {
   "cell_type": "markdown",
   "metadata": {},
   "source": [
    "Python permet aussi de créer des listes (notez les crochets):"
   ]
  },
  {
   "cell_type": "code",
   "execution_count": null,
   "metadata": {},
   "outputs": [],
   "source": [
    "jardin = ['courge', 'haricot', 'maïs', 'tabac']\n",
    "jardin"
   ]
  },
  {
   "cell_type": "markdown",
   "metadata": {},
   "source": [
    "On peut invoquer un élément de la liste en servant de l’index, mais il faut savoir que Python commence à compter avec zéro, donc le deuxième élément sera à la position 1, puisque le premier a un index zéro:"
   ]
  },
  {
   "cell_type": "code",
   "execution_count": null,
   "metadata": {},
   "outputs": [],
   "source": [
    "jardin = ['courge', 'haricot', 'maïs', 'tabac']\n",
    "jardin[1]"
   ]
  },
  {
   "cell_type": "markdown",
   "metadata": {},
   "source": [
    "On peut aussi sélectionner plusieurs éléments situés entre deux index, mais il faut savoir que Python va alors s’arrêter avant le deuxième index:"
   ]
  },
  {
   "cell_type": "code",
   "execution_count": null,
   "metadata": {},
   "outputs": [],
   "source": [
    "jardin = ['courge', 'haricot', 'maïs', 'tabac']\n",
    "jardin[1:3]"
   ]
  },
  {
   "cell_type": "markdown",
   "metadata": {},
   "source": [
    "Python peut aussi nous dire l’étendue (_lenght_) de notre liste, soit combien d’éléments elle contient:"
   ]
  },
  {
   "cell_type": "code",
   "execution_count": null,
   "metadata": {},
   "outputs": [],
   "source": [
    "jardin = ['courge', 'haricot', 'maïs', 'tabac']\n",
    "len(jardin)"
   ]
  },
  {
   "cell_type": "markdown",
   "metadata": {},
   "source": [
    "On peut éliminer un élément de la liste en indiquant son index:"
   ]
  },
  {
   "cell_type": "code",
   "execution_count": null,
   "metadata": {},
   "outputs": [],
   "source": [
    "jardin = ['courge', 'haricot', 'maïs', 'tabac']\n",
    "del(jardin)[2]\n",
    "jardin"
   ]
  },
  {
   "cell_type": "markdown",
   "metadata": {},
   "source": [
    "Il est possible de trier les éléments d’une liste:"
   ]
  },
  {
   "cell_type": "code",
   "execution_count": null,
   "metadata": {},
   "outputs": [],
   "source": [
    " jardin = [2, 5, 3.14, 1, -7]\n",
    " jardin.sort()\n",
    " jardin"
   ]
  },
  {
   "cell_type": "code",
   "execution_count": null,
   "metadata": {},
   "outputs": [],
   "source": [
    "jardin = ['courge', 'haricot', 'maïs', 'tabac']\n",
    "jardin.sort()\n",
    "jardin"
   ]
  },
  {
   "cell_type": "markdown",
   "metadata": {},
   "source": [
    "On peut aussi trier en ordre inverse:"
   ]
  },
  {
   "cell_type": "code",
   "execution_count": null,
   "metadata": {},
   "outputs": [],
   "source": [
    " jardin.sort(reverse=True)\n",
    " jardin"
   ]
  },
  {
   "cell_type": "markdown",
   "metadata": {},
   "source": [
    "Il y a des variables définies globalement et d’autres localement. La différence se traduit dans l’indentation. Exemple:"
   ]
  },
  {
   "cell_type": "code",
   "execution_count": null,
   "metadata": {},
   "outputs": [],
   "source": [
    "def courge():\n",
    "    haricot = 31337\n",
    "courge()\n",
    "print(haricot)"
   ]
  },
  {
   "cell_type": "markdown",
   "metadata": {},
   "source": [
    "Le message d'erreur, à savoir qu'une variable n'est pas définie, vient du fait qu’`'haricot'` est défini localement, à l’intérieur de la variable courge. Mais il n’existe pas globalement. Les variables définies localement ne peuvent pas non plus être reconnues ailleurs dans les autres variables locales. Autrement dit, ce qui est local dans une variable existe seulement dans cette variable. Par contre, les variables globales peuvent être utilisées localement. Pour éviter toute confusion, on devrait donner des noms différents aux variables locales et globales."
   ]
  },
  {
   "cell_type": "markdown",
   "metadata": {},
   "source": [
    "## Les modules"
   ]
  },
  {
   "cell_type": "markdown",
   "metadata": {},
   "source": [
    "Python dispose d'une grande bibliothèque standard avec des outils nombreux. Nous en avons ici utilisé déjà plusieurs, comme `sort`. Pour permettre à Python de fonctionner rapidement, tous les outils existants ne sont pas déjà présents dans la bibliothèque standard. On doit en ajouter des outils au fur et à mesure qu’on en a besoin, et ce, en important d’abord le module ces outils, par exemple le module contenant les algorithmes qui simulent le hasard:"
   ]
  },
  {
   "cell_type": "code",
   "execution_count": null,
   "metadata": {},
   "outputs": [],
   "source": [
    "import random"
   ]
  },
  {
   "cell_type": "markdown",
   "metadata": {},
   "source": [
    "Le module est maintenant importé et on peut invoquer certaines des fonctions qu’il contient, par exemple choisir au hasard un chiffre entre 1 et 9:"
   ]
  },
  {
   "cell_type": "code",
   "execution_count": null,
   "metadata": {},
   "outputs": [],
   "source": [
    "random.randint(1, 9)"
   ]
  },
  {
   "cell_type": "markdown",
   "metadata": {},
   "source": [
    "Le module random est particulièrement intéressant en contexte pédagogique. Imaginez que vous devez assigner l’ordre des présentations orales en classe pour un groupe comprenant 5 étudiant.e.s. On pourrait d’abord écrire une liste: `groupe = [1,2,3,4,5]`. Et ensuite demander a Python de mélanger ces nombres."
   ]
  },
  {
   "cell_type": "code",
   "execution_count": null,
   "metadata": {},
   "outputs": [],
   "source": [
    "groupe = [1,2,3,4,5]\n",
    "random.shuffle(groupe)"
   ]
  },
  {
   "cell_type": "markdown",
   "metadata": {},
   "source": [
    "Si maintenant on invoque à nouveau la variable groupe, on obtient ceci:"
   ]
  },
  {
   "cell_type": "code",
   "execution_count": null,
   "metadata": {},
   "outputs": [],
   "source": [
    "groupe"
   ]
  },
  {
   "cell_type": "markdown",
   "metadata": {},
   "source": [
    "Par contre, s’il y a 13 étudiant.e.s dans le groupe, ça va être fastidieux de commencer à rédiger une liste. Mais on peut demander à Python de la faire pour nous avec la fonction appropriée `list()`:"
   ]
  },
  {
   "cell_type": "code",
   "execution_count": null,
   "metadata": {},
   "outputs": [],
   "source": [
    " \n",
    "list(range(14))"
   ]
  },
  {
   "cell_type": "markdown",
   "metadata": {},
   "source": [
    "On peut associer cette liste à une variable:"
   ]
  },
  {
   "cell_type": "code",
   "execution_count": null,
   "metadata": {},
   "outputs": [],
   "source": [
    "groupe = list(range(14))\n",
    "groupe"
   ]
  },
  {
   "cell_type": "markdown",
   "metadata": {},
   "source": [
    "Et ensuite la mélanger avec l'outil «mélanger» (_shuffle_) du module «aléatoire» (_random_):"
   ]
  },
  {
   "cell_type": "code",
   "execution_count": null,
   "metadata": {},
   "outputs": [],
   "source": [
    "random.shuffle(groupe)\n",
    "groupe"
   ]
  },
  {
   "cell_type": "markdown",
   "metadata": {},
   "source": [
    "Comme on ne souhaite pas voir une personne étudiante associée au nombre zéro, on aurait aussi pu définir la liste ainsi:"
   ]
  },
  {
   "cell_type": "code",
   "execution_count": null,
   "metadata": {},
   "outputs": [],
   "source": [
    "groupe = list(range(1,14))\n",
    "groupe"
   ]
  },
  {
   "cell_type": "markdown",
   "metadata": {},
   "source": [
    "Autre mise en contexte pédagogique: vous devez attribuer au hasard à 4 étudiants le soin de présider les discussions dans votre séminaire qui en comprend 13. Allez-vous tirer un ou des dés? Les chances qu’un même nombre soit tiré plusieurs fois sont grandes et l’exercice risque donc d’être laborieux. Voici une fonction pratique qui permet de déterminer un échantillon (ici de 4) extrait du groupe (que l’on a déjà défini plus tôt):"
   ]
  },
  {
   "cell_type": "code",
   "execution_count": null,
   "metadata": {},
   "outputs": [],
   "source": [
    "random.sample(groupe, 4)"
   ]
  },
  {
   "cell_type": "markdown",
   "metadata": {},
   "source": [
    "Vous pourriez aussi vouloir personnaliser votre liste. Supposons que dans un séminaire, vous jouiez à une sorte de partie de Donjons et Dragons autour d'un corpus de sources. Auparavant, on tirerait les dés pour pour déterminer qui prend la parole et cette personne dirait ensuite ce qu’elle ferait si elle était à la place de tel ou tel personnage. Au lieu des dés, on pourrait utiliser le module _random_. On pourrait ainsi écrire quelques lignes de code dans la console pour obtenir une liste aléatoire des participants."
   ]
  },
  {
   "cell_type": "code",
   "execution_count": null,
   "metadata": {},
   "outputs": [],
   "source": [
    "import random\n",
    "genshtab = [\"Camille\", \"CEG\", \"Henri\", \"Victoria\", \"Catherine\", \"David P.\", \"Marie-Soleil\", \"CEB\", \"JCSJ\", \"David B.\", \"Thomas\"]\n",
    "random.shuffle(genshtab)\n",
    "genshtab\n",
    "['David P.', 'Camille', 'Henri', 'Victoria', 'Thomas', 'Marie-Soleil', 'CEB', 'CEG', 'JCSJ', 'Catherine', 'David B.']"
   ]
  },
  {
   "cell_type": "markdown",
   "metadata": {},
   "source": [
    "Mais cela enlève l’effet de surprise, puisqu’on sait déjà dans quel ordre les participants parleront. Pour pallier ceci, on pourrait écrire un petit script (ou programme) qui tire un nom au hasard, puis enlève ce nom de la liste et affiche le nombre de participants restant pour que la personne puisse prendre une décision éclairée. Pour cela, il est cependant nécessaire d'avoir compris le concept de boucle en informatique."
   ]
  },
  {
   "cell_type": "markdown",
   "metadata": {},
   "source": [
    "## Les boucles"
   ]
  },
  {
   "cell_type": "markdown",
   "metadata": {},
   "source": [
    "Il existe dans Python deux types de boucles. La première est du type `for`, où la variable parcourt une série de valeurs. Ainsi, pour dire à Python de faire une opération plusieurs fois de suite, on pourrait utiliser le concept le concept d'index que nous avons vu plus tôt. Par exemple, si l’on veut que Python «imprime» (_print_, en fait: «affiche») 3 fois le mot Jardin, on pourrait le lui dire ainsi:"
   ]
  },
  {
   "cell_type": "code",
   "execution_count": null,
   "metadata": {},
   "outputs": [],
   "source": [
    "for i in range(3):\n",
    "    print('Jardin')"
   ]
  },
  {
   "cell_type": "markdown",
   "metadata": {},
   "source": [
    "L'indentation est importante dans Python. D'où le retrait avant la deuxième ligne, qui dit sa subordination à la première. `i` tient ici pour index. Donc, Python a imprimé 3 fois le mot jardin parce qu’il y a 3 positions où l’index peut se trouver dans le nombre 3. Chaque nouvelle boucle commence avec un index différent, ce qui permet à Python de se déplacer d’un index à l’autre. Quand il arrive au dernier index , Python comprend que c’est la boucle finale. On peut lui demander de calculer lui-même le nombre total d’index, par exemple ici dans une liste:"
   ]
  },
  {
   "cell_type": "code",
   "execution_count": null,
   "metadata": {},
   "outputs": [],
   "source": [
    "jardin = ['courge', 'haricot', 'maïs', 'tabac']\n",
    "for i in range(len(jardin)):\n",
    "    print('L\\'index '+str(i)+' dans le jardin est: '+jardin[i])"
   ]
  },
  {
   "cell_type": "markdown",
   "metadata": {},
   "source": [
    "Dans cet exemple, j'ai dû ajouter une barre oblique inverse avant l'apostrophe de «L'index» de façon à ce que Python ne pense pas que c'est là le début d'une chaîne de caractère."
   ]
  },
  {
   "cell_type": "markdown",
   "metadata": {},
   "source": [
    "Le deuxième type de boucle dans Python est du type `while`. Il faut voir ce type de boucles comme un compteur qui dit au programme de faire une telle chose un nombre x de fois. Par exemple, nous avons une boucle du type suivant, soit littéralement «sachant que i a une valeur initiale de 0, tant que i est plus petit que trois, imprime i et ensuite ajoute 1 à i»:"
   ]
  },
  {
   "cell_type": "code",
   "execution_count": null,
   "metadata": {},
   "outputs": [],
   "source": [
    "i = 0\n",
    "while i < 3:\n",
    "    print(i)\n",
    "    i+=1"
   ]
  },
  {
   "cell_type": "markdown",
   "metadata": {},
   "source": [
    " `i+=1` est une façon d’écrire «ajoute 1 à i». Donc, Python a exécuté l’opération demandée de lui (soit ajouter 1 à i) tant que i était inférieur à 3 et terminé l’opération quand i était égal à 3."
   ]
  },
  {
   "cell_type": "markdown",
   "metadata": {},
   "source": [
    "![boucle](boucle.png)"
   ]
  },
  {
   "cell_type": "markdown",
   "metadata": {},
   "source": [
    "Maintenant que le concept de boucle a été présenté, nous allons voir le script permettant de déterminer au fur et à mesure qui intervient dans le séminaire de type Donjons et Dragons. Il s'agit d'une boucle du type `while`. Donc, d'abord on importe le module simulant le hasard. "
   ]
  },
  {
   "cell_type": "code",
   "execution_count": null,
   "metadata": {},
   "outputs": [],
   "source": [
    "import random"
   ]
  },
  {
   "cell_type": "markdown",
   "metadata": {},
   "source": [
    "Ensuite on définit une variable contenant une liste des participants."
   ]
  },
  {
   "cell_type": "code",
   "execution_count": null,
   "metadata": {},
   "outputs": [],
   "source": [
    "genshtab = [\"Camille\", \"CEG\", \"Henri\", \"Victoria\", \"Catherine\", \"David P.\", \"Marie-Soleil\", \"CEB\", \"JCSJ\", \"David B.\", \"Thomas\"]"
   ]
  },
  {
   "cell_type": "markdown",
   "metadata": {},
   "source": [
    "Puis, on écrit la boucle en question. J'annote le code ligne pour ligne en utilisant `#`; ce qui dit à Python d'ignorer cette ligne. Quand la cellule est exécutée, une fenêtre apparaît vous demandant de confirmer votre choix en appuyant sur `Entrée`. "
   ]
  },
  {
   "cell_type": "code",
   "execution_count": null,
   "metadata": {},
   "outputs": [],
   "source": [
    "while len(genshtab)>0:\n",
    "# tant que la longueur de genshtab est supérieure à 0.\n",
    "    agent=random.choice(list(genshtab))\n",
    "    # choisit un agent au hasard\n",
    "    print(agent)\n",
    "    # affiche l'agent\n",
    "    genshtab.remove(agent)\n",
    "    # supprime l'agent de la liste\n",
    "    print(len(genshtab))\n",
    "    # affiche la longueur de la liste\n",
    "    print(\"continuer[c], arrêter[a]\")\n",
    "    # affiche les choix\n",
    "    R=input()\n",
    "    # demande à l'utilisateur\n",
    "    continuer=\"c\"\n",
    "    # définition de la variable continuer\n",
    "    if R == continuer:\n",
    "        # si l'utilisateur a entré c\n",
    "        continue\n",
    "        # on continue\n",
    "    else:\n",
    "        # sinon\n",
    "        break\n",
    "# on sort de la boucle\n",
    "print(\"game over\")\n",
    "# affiche le message de fin"
   ]
  },
  {
   "cell_type": "markdown",
   "metadata": {},
   "source": [
    "Dans la première ligne, on trouve l'opérateur `while` et dans les dernières  les opérateurs `if` et `else`. Nous allons maintenant aborder ce concept important."
   ]
  },
  {
   "cell_type": "markdown",
   "metadata": {},
   "source": [
    "## Les opérateurs"
   ]
  },
  {
   "cell_type": "markdown",
   "metadata": {},
   "source": [
    "Il y a plusieurs opérateurs de comparaison dans Python. "
   ]
  },
  {
   "cell_type": "markdown",
   "metadata": {},
   "source": [
    "* `==` : égal à\n",
    "* `!=` : pas égal à\n",
    "* `<` : plus petit que\n",
    "* `>` : plus grand que\n",
    "* `>=` : plus grand que ou égal à"
   ]
  },
  {
   "cell_type": "markdown",
   "metadata": {},
   "source": [
    "`=` est différent de `==`. Le premier nous sert à définir une variable. Le second est un opérateur de comparaison. Testons-en quelques-uns dans la console."
   ]
  },
  {
   "cell_type": "code",
   "execution_count": null,
   "metadata": {},
   "outputs": [],
   "source": [
    "30 == 30"
   ]
  },
  {
   "cell_type": "code",
   "execution_count": null,
   "metadata": {},
   "outputs": [],
   "source": [
    "5!=7"
   ]
  },
  {
   "cell_type": "code",
   "execution_count": null,
   "metadata": {},
   "outputs": [],
   "source": [
    " 7!=7"
   ]
  },
  {
   "cell_type": "code",
   "execution_count": null,
   "metadata": {},
   "outputs": [],
   "source": [
    "'courge'=='courge'"
   ]
  },
  {
   "cell_type": "code",
   "execution_count": null,
   "metadata": {},
   "outputs": [],
   "source": [
    "'Courge'=='courge'"
   ]
  },
  {
   "cell_type": "markdown",
   "metadata": {},
   "source": [
    "L’opérateur considère la différence de casse."
   ]
  },
  {
   "cell_type": "code",
   "execution_count": null,
   "metadata": {},
   "outputs": [],
   "source": [
    "True!=False"
   ]
  },
  {
   "cell_type": "code",
   "execution_count": null,
   "metadata": {},
   "outputs": [],
   "source": [
    "35==35.0"
   ]
  },
  {
   "cell_type": "markdown",
   "metadata": {},
   "source": [
    "Même s’il s’agit techniquement de deux types différents de valeur (un nombre entier et un nombre décimal), leur valeur est quand même identique.\n"
   ]
  },
  {
   "cell_type": "code",
   "execution_count": null,
   "metadata": {},
   "outputs": [],
   "source": [
    "37 == '37'"
   ]
  },
  {
   "cell_type": "markdown",
   "metadata": {},
   "source": [
    "Faux car on compare ici un nombre entier et une chaîne de caractères (signifiée par les apostrophes)."
   ]
  },
  {
   "cell_type": "code",
   "execution_count": null,
   "metadata": {},
   "outputs": [],
   "source": [
    "courge = 77\n",
    "76 < courge"
   ]
  },
  {
   "cell_type": "markdown",
   "metadata": {},
   "source": [
    "Les opérateurs booléens (`and`, `or`, et `not`) peuvent être utilisés avec les opérateurs de comparaison."
   ]
  },
  {
   "cell_type": "code",
   "execution_count": null,
   "metadata": {},
   "outputs": [],
   "source": [
    "(3 < 4) and (6 < 9)"
   ]
  },
  {
   "cell_type": "markdown",
   "metadata": {},
   "source": [
    "Comme en mathématiques, l’ordinateur considère d’abord les chiffres entre parenthèses et ensuite les compare entre eux."
   ]
  },
  {
   "cell_type": "markdown",
   "metadata": {},
   "source": [
    "En plus de `else` et `if` (que nous avons vu dans la précédente boucle pour notre D&D), il y a `elif` (contraction des deux précédents). C’est un peu comme si on disait «sinon, mais seulement si…». Exemple:"
   ]
  },
  {
   "cell_type": "code",
   "execution_count": null,
   "metadata": {},
   "outputs": [],
   "source": [
    "monAge = input()\n",
    "if int(monAge) <= 40:\n",
    "     print('tu es encore jeune, '+ monNom)\n",
    "elif int (monAge) == 42:\n",
    "     print('tu ne les fais pas!')\n",
    "else: \n",
    "     print('vive les vieux!')"
   ]
  },
  {
   "cell_type": "markdown",
   "metadata": {},
   "source": [
    "On l'a déjà dit mais c'est important de le répéter: Python fonctionne avec des blocs de code et l’indentation est importante. Ici, tout comme dans notre précédente boucle, nous avons un premier **contrôle de flux**, suivi d’une indentation, puis un second et une nouvelle indentation. On a donc deux blocs de code. "
   ]
  },
  {
   "cell_type": "markdown",
   "metadata": {},
   "source": [
    ">«**En informatique , le flux de contrôle (ou flux de contrôle ) est l'ordre dans lequel les instructions individuelles , les instructions ou les appels de fonction d'un programme impératif sont exécutés ou évalués.**» [Référence](https://stringfixer.com/fr/Control_structures)"
   ]
  },
  {
   "cell_type": "markdown",
   "metadata": {},
   "source": [
    "Écrivons encore une boucle, mais qui cette fois intégrera un concept nouveau, celui des dictionnaires."
   ]
  },
  {
   "cell_type": "markdown",
   "metadata": {},
   "source": [
    "## Les dictionnaires"
   ]
  },
  {
   "cell_type": "markdown",
   "metadata": {},
   "source": [
    "Les listes, on l'a vu, sont notamment utiles pour être interrogées leur contenu avec l'index."
   ]
  },
  {
   "cell_type": "code",
   "execution_count": null,
   "metadata": {},
   "outputs": [],
   "source": [
    "jardin = ['courge', 'haricot', 'maïs', 'tabac']\n",
    "jardin[3]"
   ]
  },
  {
   "cell_type": "markdown",
   "metadata": {},
   "source": [
    "Comme les listes, les dictionnaires sont des collections de valeurs, mais celles-ci peuvent être des données de différents types et elles associent des clés à des valeurs. Définissons par exemple une variable par un dictionnaire contenant trois clés et leurs valeurs:"
   ]
  },
  {
   "cell_type": "code",
   "execution_count": null,
   "metadata": {},
   "outputs": [],
   "source": [
    "Jardin = {'grandeur': 'moyenne', 'type': 'ancestral', 'fonction': 'pédagogique'}"
   ]
  },
  {
   "cell_type": "markdown",
   "metadata": {},
   "source": [
    "Les clés sont `grandeur`, `type` et `fonction`. Les valeurs de ces clés sont `moyenne`, `ancestral` et `pédagogique`. On peut accéder aux valeurs par leurs clés:"
   ]
  },
  {
   "cell_type": "code",
   "execution_count": null,
   "metadata": {},
   "outputs": [],
   "source": [
    "Jardin['grandeur']"
   ]
  },
  {
   "cell_type": "markdown",
   "metadata": {},
   "source": [
    "Dans une liste, les éléments sont ordonnés. Dans un dictionnaire, ils ne le sont pas. Si on peut sélectionner un élément dans une liste par son index, on ne peut pas dans un dictionnaire car il n’y a pas de premier ou second élément. Mais on peut donc par contre (et c’est là l’avantage des dictionnaires sur les listes) interroger notre dictionnaire avec les clés. Voyons ce que cela donne avec un exemple concret."
   ]
  },
  {
   "cell_type": "code",
   "execution_count": null,
   "metadata": {},
   "outputs": [],
   "source": [
    "semences = {'courge': 'algonquine', 'haricot': 'mohawk', 'maïs': 'petit maïs blanc canadien'}\n",
    "\n",
    "while True:\n",
    "    print('Entrer le nom du légume au singulier pour connaître la variante semée ou laisser vide pour quitter')\n",
    "    nom = input()\n",
    "    if nom == '':\n",
    "        break\n",
    "\n",
    "    if nom in semences:\n",
    "        print(nom + ' : ' + semences[nom])\n",
    "    else:\n",
    "        print('Je n\\'ai pas d\\'information pour ' + nom)\n",
    "        print('Quelle variante a-t-on utilisée?')\n",
    "        nouvSemence = input()\n",
    "        semences[nom] = nouvSemence\n",
    "        print('La base de données du jardin a été mise à jour.')\n",
    "        print(semences)"
   ]
  },
  {
   "cell_type": "markdown",
   "metadata": {},
   "source": [
    "Non seulement le code nous permet d’interroger le dictionnaire, mais ce dernier peut aussi être enrichi de nouvelles clés avec leurs valeurs. Si on demande quelle est la variante semée pour tabac, le programme nous répond qu’il ne le sait pas et nous demande d’ajouter une valeur, disons sacré. Si on redemande quelle est la variante de tabac, le programme nous dit maintenant: sacré. Pour preuve, le programme imprime le dictionnaire mis à jour."
   ]
  }
 ],
 "metadata": {
  "interpreter": {
   "hash": "3b85a762e04580a1c02188213ce1c8fbc05517cae97b604cf0d5b3c6b24b87b5"
  },
  "kernelspec": {
   "display_name": "Python 3.9.12 ('base')",
   "language": "python",
   "name": "python3"
  },
  "language_info": {
   "codemirror_mode": {
    "name": "ipython",
    "version": 3
   },
   "file_extension": ".py",
   "mimetype": "text/x-python",
   "name": "python",
   "nbconvert_exporter": "python",
   "pygments_lexer": "ipython3",
   "version": "3.9.12"
  },
  "orig_nbformat": 4
 },
 "nbformat": 4,
 "nbformat_minor": 2
}
